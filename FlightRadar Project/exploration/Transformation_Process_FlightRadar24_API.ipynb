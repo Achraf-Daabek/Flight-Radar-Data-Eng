{
 "cells": [
  {
   "cell_type": "code",
   "execution_count": 0,
   "metadata": {
    "application/vnd.databricks.v1+cell": {
     "cellMetadata": {
      "byteLimit": 2048000,
      "rowLimit": 10000
     },
     "inputWidgets": {},
     "nuid": "c05466cb-ae6f-491f-a8d0-44ab6de18c45",
     "showTitle": false,
     "title": ""
    }
   },
   "outputs": [
    {
     "output_type": "stream",
     "name": "stdout",
     "output_type": "stream",
     "text": [
      "Python interpreter will be restarted.\nCollecting country_converter\n  Downloading country_converter-1.0.0-py3-none-any.whl (44 kB)\nRequirement already satisfied: pandas>=1.0 in /databricks/python3/lib/python3.9/site-packages (from country_converter) (1.4.2)\nRequirement already satisfied: python-dateutil>=2.8.1 in /databricks/python3/lib/python3.9/site-packages (from pandas>=1.0->country_converter) (2.8.2)\nRequirement already satisfied: pytz>=2020.1 in /databricks/python3/lib/python3.9/site-packages (from pandas>=1.0->country_converter) (2021.3)\nRequirement already satisfied: numpy>=1.18.5 in /databricks/python3/lib/python3.9/site-packages (from pandas>=1.0->country_converter) (1.21.5)\nRequirement already satisfied: six>=1.5 in /databricks/python3/lib/python3.9/site-packages (from python-dateutil>=2.8.1->pandas>=1.0->country_converter) (1.16.0)\nInstalling collected packages: country-converter\nSuccessfully installed country-converter-1.0.0\nPython interpreter will be restarted.\n"
     ]
    }
   ],
   "source": [
    "%pip install country_converter"
   ]
  },
  {
   "cell_type": "code",
   "execution_count": 0,
   "metadata": {
    "application/vnd.databricks.v1+cell": {
     "cellMetadata": {
      "byteLimit": 2048000,
      "rowLimit": 10000
     },
     "inputWidgets": {},
     "nuid": "1cdf57cf-e0a8-49e6-aa9d-187e0f2cb140",
     "showTitle": false,
     "title": ""
    }
   },
   "outputs": [
    {
     "output_type": "stream",
     "name": "stdout",
     "output_type": "stream",
     "text": [
      "Python interpreter will be restarted.\nCollecting geopy\n  Downloading geopy-2.4.0-py3-none-any.whl (125 kB)\nCollecting geographiclib<3,>=1.52\n  Downloading geographiclib-2.0-py3-none-any.whl (40 kB)\nInstalling collected packages: geographiclib, geopy\nSuccessfully installed geographiclib-2.0 geopy-2.4.0\nPython interpreter will be restarted.\n"
     ]
    }
   ],
   "source": [
    "%pip install geopy"
   ]
  },
  {
   "cell_type": "code",
   "execution_count": 0,
   "metadata": {
    "application/vnd.databricks.v1+cell": {
     "cellMetadata": {
      "byteLimit": 2048000,
      "rowLimit": 10000
     },
     "inputWidgets": {},
     "nuid": "6c27a230-4230-4c32-919e-3045ebd4de5c",
     "showTitle": false,
     "title": ""
    }
   },
   "outputs": [],
   "source": [
    "from pyspark.sql import functions as F\n",
    "from pyspark.sql.window import Window\n",
    "from pyspark.sql import DataFrame\n",
    "import country_converter as coco\n",
    "from pyspark.sql.functions import col, count, row_number\n",
    "from geopy.distance import great_circle\n",
    "from pyspark.sql.types import FloatType , StringType\n",
    "import logging\n",
    "from geopy.distance import geodesic"
   ]
  },
  {
   "cell_type": "code",
   "execution_count": 0,
   "metadata": {
    "application/vnd.databricks.v1+cell": {
     "cellMetadata": {
      "byteLimit": 2048000,
      "rowLimit": 10000
     },
     "inputWidgets": {},
     "nuid": "3d226409-7766-4e23-af07-fe21f0acd1e1",
     "showTitle": false,
     "title": ""
    }
   },
   "outputs": [],
   "source": [
    "# Configuration de base pour le logging\n",
    "logging.basicConfig(level=logging.INFO, format='%(asctime)s - %(levelname)s - %(message)s')"
   ]
  },
  {
   "cell_type": "code",
   "execution_count": 0,
   "metadata": {
    "application/vnd.databricks.v1+cell": {
     "cellMetadata": {
      "byteLimit": 2048000,
      "rowLimit": 10000
     },
     "inputWidgets": {},
     "nuid": "6a0f00b4-d751-4783-b2ce-3f316222b71c",
     "showTitle": false,
     "title": ""
    }
   },
   "outputs": [],
   "source": [
    "class Transformation:\n",
    "    def __init__(self, path_bronze: str):\n",
    "        self.path_bronze = path_bronze\n",
    "        self.df_flights = spark.read.parquet(f\"{self.path_bronze}/flights\")\n",
    "        self.df_airlines = spark.read.parquet(f\"{self.path_bronze}/airlines\")\n",
    "        self.df_airlines_active_flights = spark.read.parquet(f\"{self.path_bronze}/airlines_active_flights\")\n",
    "        self.df_airports = spark.read.parquet(f\"{self.path_bronze}/airports\")\n",
    "        self.df_zones = spark.read.parquet(f\"{self.path_bronze}/zones\")\n",
    "    \n",
    "    def get_max(self,df, col, by):\n",
    "            \"\"\" \n",
    "            A function to return rows with the max value of a column by groups\n",
    "            inputs : \n",
    "                    - df: dataframe\n",
    "                    - col: a column of the df that we look for the max value\n",
    "                    - by : column to group the dataframe by\n",
    "            output : dataframe having the max value\n",
    "            \"\"\"\n",
    "            if by == '':\n",
    "                max_column = df.agg(F.max(col))\\\n",
    "                            .collect()[0]['max({})'.format(col)]\n",
    "                df = df.filter(F.col(col) == max_column)\n",
    "            else:\n",
    "                w = Window.partitionBy(by)\n",
    "                df = df.withColumn('max', F.max(col).over(w))\\\n",
    "                                        .filter(F.col(col) == F.col('max'))\\\n",
    "                                        .drop('max')\n",
    "\n",
    "            return df\n",
    "        \n",
    "    def active_flights(self,df, cols):\n",
    "                \"\"\" \n",
    "                A function to return active flights in a dataframe\n",
    "                Considering that an active flight is a flight moving through the air --> \"on_ground\" == 0\n",
    "                inputs : \n",
    "                        - df:  flights dataframe\n",
    "                        - cols: dataframe columns to return\n",
    "                output : the dataframe of active flights (selected by input columns)\n",
    "                \"\"\"\n",
    "                return df.filter(F.col('on_ground') == 0).select(cols)\n",
    "\n",
    "    def add_route_length_column(self, df_flights, df_airports):\n",
    "        #les colonnes nécessaires dans df_flights et df_airports\n",
    "        flights_tmp = df_flights.select('id', 'origin_airport_iata', 'destination_airport_iata')\n",
    "        airports_coord = df_airports.select('IATA Code', 'Latitude', 'Longitude')\n",
    "        origin_coord = airports_coord.toDF(*['origin_airport_iata', 'origin_airport_lat', 'origin_airport_lon'])\n",
    "        destination_coord = airports_coord.toDF(*['destination_airport_iata', 'destination_airport_lat', 'destination_airport_lon'])\n",
    "\n",
    "        #les coordonnées d'origine et de destination avec les vols\n",
    "        flights_tmp = flights_tmp.join(origin_coord, 'origin_airport_iata', 'inner') \\\n",
    "                                 .join(destination_coord, 'destination_airport_iata', 'inner')\n",
    "\n",
    "        # Définisser une UDF pour calculer la distance geodesique\n",
    "        @udf(FloatType())\n",
    "        def calculate_geodesic_distance(lat_flight, lon_flight, lat_origin, lon_origin):\n",
    "            return geodesic((lat_flight, lon_flight), (lat_origin, lon_origin)).kilometers\n",
    "\n",
    "        # Calculer la distance geodesique pour chaque ligne\n",
    "        flights_tmp = flights_tmp.withColumn(\n",
    "            \"route_length\",\n",
    "            calculate_geodesic_distance(\n",
    "                flights_tmp['destination_airport_lat'], flights_tmp['destination_airport_lon'],\n",
    "                flights_tmp['origin_airport_lat'], flights_tmp['origin_airport_lon']\n",
    "            )\n",
    "        )\n",
    "\n",
    "        # Sélectionner les colonnes pertinentes et rejoignez-les à df_flights\n",
    "        flights_tmp = flights_tmp.select('id', 'route_length')\n",
    "        df_flights = df_flights.join(flights_tmp, 'id', 'left')\n",
    "\n",
    "        return df_flights   \n",
    "    def add_continent_columnn(self, df_airports, df_zones):\n",
    "        \"\"\"\n",
    "        Ajoute une colonne 'continent' au DataFrame des aéroports en fonction des informations contenues dans df_zones.\n",
    "\n",
    "        :param df_airports: DataFrame des aéroports\n",
    "        :param df_zones: DataFrame contenant les informations des zones continentales\n",
    "        :return: DataFrame des aéroports avec la colonne 'continent' mise à jour\n",
    "        \"\"\"\n",
    "\n",
    "        # Initialisez la colonne 'continent' avec des valeurs nulles\n",
    "        df_airports = df_airports.withColumn(\"continent\", F.lit(None).cast(StringType()))\n",
    "        # Créer une nouvelle variable pour stocker la version mise à jour du DataFrame des aéroports\n",
    "        updated_airports_df = df_airports\n",
    "\n",
    "        # Parcourir le DataFrame df_zones et ajoutez une colonne continent en fonction des coordonnées\n",
    "        for continent_row in df_zones.collect():\n",
    "            continent_name = continent_row['Zone Name']\n",
    "            tl_x = continent_row['TL_X']\n",
    "            tl_y = continent_row['TL_Y']\n",
    "            br_x = continent_row['BR_X']\n",
    "            br_y = continent_row['BR_Y']\n",
    "\n",
    "            # Utiliser la fonction when pour effectuer la correspondance sur la nouvelle variable\n",
    "            updated_airports_df = updated_airports_df.withColumn(\n",
    "                \"continent\",\n",
    "                F.when(\n",
    "                    (updated_airports_df.Latitude >= tl_x) &\n",
    "                    (updated_airports_df.Latitude  <= br_x) &\n",
    "                    (updated_airports_df.Longitude >= br_y) &\n",
    "                    (updated_airports_df.Longitude <= tl_y),\n",
    "                    continent_name\n",
    "                ).otherwise(updated_airports_df.continent)\n",
    "            )\n",
    "\n",
    "        return updated_airports_df\n",
    "\n",
    "###############################################################################################################################################\n",
    "\n",
    "    def airline_with_most_flights(self) -> DataFrame:\n",
    "        window_on_ground = Window.partitionBy(\"callsign\")\n",
    "        df_flights_count = self.df_flights \\\n",
    "            .withColumn(\"on_ground_list\", F.collect_set(F.col(\"on_ground\")).over(window_on_ground)) \\\n",
    "            .filter(~F.array_contains(F.col(\"on_ground_list\"), 1)) \\\n",
    "            .filter(col(\"airline_icao\") != 'N/A')\\\n",
    "            .filter(col('on_ground') == 0)\\\n",
    "            .groupBy(\"airline_icao\")\\\n",
    "            .agg(F.countDistinct(\"callsign\").alias(\"number_of_flights\"))\\\n",
    "            .sort(F.desc(\"number_of_flights\"))\n",
    "        top_airline = df_flights_count.limit(1)\n",
    "        result = top_airline.join(self.df_airlines, top_airline.airline_icao == self.df_airlines.ICAO, 'left')\\\n",
    "                            .select(\"airline_icao\", \"Name\", \"number_of_flights\")\n",
    "\n",
    "        return result\n",
    "    \n",
    "\n",
    "    \n",
    "###############################################################################################################################################\n",
    "  \n",
    "    def most_regional_active_flights_companies_by_continent(self):\n",
    "    \n",
    "        active_flights_df = self.active_flights(self.df_flights, [\"id\", \"origin_airport_iata\", \"destination_airport_iata\"])\n",
    "        df_airports_temp = self.add_continent_columnn(self.df_airports, self.df_zones)\n",
    "        airports_origin = df_airports_temp.select(\"IATA Code\", \"continent\")\\\n",
    "                                    .toDF(*[\"origin_airport_iata\", \"origin_continent\"])\n",
    "        airports_destination = df_airports_temp.select(\"IATA Code\", \"continent\")\\\n",
    "                                        .toDF(*[\"destination_airport_iata\", \"destination_continent\"])\n",
    "        active_flights_df = active_flights_df.join(airports_origin, \"origin_airport_iata\", how='left')\\\n",
    "                                            .join(airports_destination, \"destination_airport_iata\", how='left')\\\n",
    "                                            .na.drop(subset=['origin_continent'])\\\n",
    "                                            .filter(F.col('origin_continent') != 'NaN')\\\n",
    "                                            .drop_duplicates()\n",
    "        active_flights_df = active_flights_df.select(\"id\", \"origin_airport_iata\", \"origin_continent\", \"destination_airport_iata\", \"destination_continent\")\n",
    "        \n",
    "        regional_active_flights_df = active_flights_df.filter(active_flights_df['origin_continent'] == active_flights_df['destination_continent'])\n",
    "\n",
    "        regional_active_flights_df = active_flights_df.join(self.df_airlines_active_flights, \"id\", how = \"left\")\n",
    "\n",
    "        count_regional_active_flights_df = regional_active_flights_df.groupBy(['origin_continent', 'airline_iata', 'airline_icao', 'airline_name'])\\\n",
    "                                                                    .agg(F.count('id').alias('active_flights'))\n",
    "\n",
    "        most_active_airline_by_continent = self.get_max(count_regional_active_flights_df, 'active_flights','origin_continent' )\n",
    "        most_active_airline_by_continent = most_active_airline_by_continent.select('origin_continent', 'airline_iata', 'airline_icao', 'airline_name', 'active_flights')\n",
    "        most_active_airline_by_continent = most_active_airline_by_continent.toDF(*['continent', 'airline_iata', 'airline_icao', 'airline_name', 'active_flights'])\n",
    "        most_active_airline_by_continent = most_active_airline_by_continent.sort(F.col('active_flights').desc())\n",
    "        \n",
    "        return most_active_airline_by_continent\n",
    "\n",
    "    \n",
    "###############################################################################################################################################\n",
    "    def active_flight_with_longest_route(self):\n",
    "        df_flights_temp = self.add_route_length_column(self.df_flights, self.df_airports)\n",
    "        active_flights_df = self.active_flights(df_flights_temp, df_flights_temp.toPandas().columns.tolist())\\\n",
    "                            .filter(F.col('route_length') != 'NaN')\n",
    "        active_flight_longest_route = self.get_max(active_flights_df, 'route_length', '')\n",
    "\n",
    "        return active_flight_longest_route.select( \"id\",\"aircraft_code\", \"airline_icao\", \"callsign\",\"route_length\")\n",
    "\n",
    "    \n",
    "###############################################################################################################################################\n",
    "\n",
    "    def average_flight_distance_by_continentt(self):\n",
    "        df_flights_temp = self.add_route_length_column(self.df_flights, self.df_airports)\n",
    "        df_airports_temp = self.add_continent_columnn(self.df_airports, self.df_zones)\n",
    "        flights_route_df = df_flights_temp.select(\"id\", \"origin_airport_iata\", \"route_length\")\\\n",
    "                                .filter(F.col('route_length') != 'NaN')\n",
    "        \n",
    "        airports_origin = df_airports_temp.select(\"IATA Code\", \"continent\")\\\n",
    "                                    .toDF(*[\"origin_airport_iata\", \"origin_continent\"])    \n",
    "        \n",
    "        # Ajouter la colonne 'origin_continent' \n",
    "        flights_route_df = flights_route_df.join(airports_origin, \"origin_airport_iata\", how='inner')\\\n",
    "                                        .na.drop(subset=['origin_continent'])\\\n",
    "                                        .filter(F.col('origin_continent') != 'NaN')\n",
    "        \n",
    "        # Utiliser la fenêtre spécifiée pour agréger par continent\n",
    "        window_spec = Window.partitionBy(\"origin_continent\")\n",
    "        avg_root_distance_by_continent = flights_route_df\\\n",
    "            .withColumn(\"average_route_distance\", F.avg(\"route_length\").over(window_spec))\\\n",
    "            .select(\"origin_continent\", \"average_route_distance\")\\\n",
    "            .distinct()\n",
    "        \n",
    "        return avg_root_distance_by_continent\n",
    "        \n",
    "###############################################################################################################################################\n",
    "\n",
    "    def get_constractor_active_flights(self):\n",
    "        return True\n",
    "        \n",
    "###############################################################################################################################################\n",
    "\n",
    "\n",
    "    def get_country_aircraft_model(self):\n",
    "        _aeroports_origin = self.df_airports.select(F.col('IATA Code').alias('iata_origin'), F.col('Latitude').alias('latitude_origin'), F.col('Longitude').alias('longitude_origin'), F.col(\"Country\").alias(\"country_origin\"))\n",
    "        result_df = self.df_flights \\\n",
    "            .join(\n",
    "                _aeroports_origin,\n",
    "                self.df_flights['origin_airport_iata'] == _aeroports_origin['iata_origin'],\n",
    "                'left'\n",
    "            )\n",
    "        \n",
    "\n",
    "        # Utilisation d'une fenêtre pour calculer le classement des modèles d'avion par pays\n",
    "        window_spec = Window.partitionBy(\"country_origin\", \"aircraft_code\")\n",
    "        result_df = result_df.withColumn(\"count_model\", F.count(\"*\").over(window_spec)).select(\"country_origin\", \"aircraft_code\", \"count_model\").dropDuplicates()\n",
    "        # Classer les modèles d'avion par pays en fonction de leur utilisation décroissante\n",
    "        window_spec = Window.partitionBy(\"country_origin\").orderBy(F.col(\"count_model\").desc())\n",
    "        ranked_df = result_df.withColumn(\"rank\", F.row_number().over(window_spec))\n",
    "        # Filtrer pour obtenir les trois premiers modèles d'avion par pays\n",
    "        top_3_models_per_country = ranked_df.filter(F.col(\"rank\") <= 3)\n",
    "        top_3_models_per_country = top_3_models_per_country.na.drop()\n",
    "        return top_3_models_per_country.select(\"country_origin\", \"aircraft_code\", \"count_model\", \"rank\")\n",
    "    \n",
    "    \n",
    "\n",
    "###############################################################################################################################################\n",
    "    def airport_with_greatest_flights_difference(self):\n",
    "        airports_df = self.df_airports.select(\"IATA Code\", \"Name\").toDF(*[\"IATA Code\", \"airport_name\"])\n",
    "        inbound_flights = self.df_flights.select([\"id\", \"origin_airport_iata\"]).toDF(*['id', 'IATA Code'])\n",
    "        outbound_flights = self.df_flights.select([\"id\", \"destination_airport_iata\"]).toDF(*['id', 'IATA Code'])\n",
    "\n",
    "        inbound_flights = inbound_flights.join(airports_df, 'IATA Code', how='left')\\\n",
    "                                    .groupBy(['IATA Code', 'airport_name'])\\\n",
    "                                    .agg(F.count(\"id\").alias('active_flights_in')) \n",
    "        outbound_flights = outbound_flights.join(airports_df , 'IATA Code', how='left')\\\n",
    "                                    .groupBy(['IATA Code', 'airport_name'])\\\n",
    "                                    .agg(F.count(\"id\").alias('active_flights_out'))\n",
    "\n",
    "        greatest_airport_df = inbound_flights.join(outbound_flights, ['IATA Code', 'airport_name'], how='inner')\\\n",
    "                                        .withColumn('active_flights', F.abs(F.col('active_flights_in') - F.col('active_flights_out')))\n",
    "\n",
    "        greatest_airport_df = self.get_max(greatest_airport_df, 'active_flights', '')\n",
    "\n",
    "        \n",
    "        return greatest_airport_df\n",
    "\n",
    "    "
   ]
  },
  {
   "cell_type": "code",
   "execution_count": 0,
   "metadata": {
    "application/vnd.databricks.v1+cell": {
     "cellMetadata": {
      "byteLimit": 2048000,
      "rowLimit": 10000
     },
     "inputWidgets": {},
     "nuid": "2de1019c-aa63-48da-9408-55ee42cacd48",
     "showTitle": false,
     "title": ""
    }
   },
   "outputs": [],
   "source": [
    "# Chemin vers le répertoire où les Parquets ont été enregistrés\n",
    "parquet_directory = \"/FileStore/Bronze/FlightsRadar_API\"\n",
    "\n",
    "# Créer une instance de Transformation en passant le chemin du répertoire\n",
    "transformer = Transformation(parquet_directory)\n"
   ]
  },
  {
   "cell_type": "code",
   "execution_count": 0,
   "metadata": {
    "application/vnd.databricks.v1+cell": {
     "cellMetadata": {
      "byteLimit": 2048000,
      "rowLimit": 10000
     },
     "inputWidgets": {},
     "nuid": "0ec0fef4-c6c4-4b05-85da-e73ce83fffe0",
     "showTitle": false,
     "title": ""
    }
   },
   "outputs": [
    {
     "output_type": "display_data",
     "data": {
      "text/html": [
       "<style scoped>\n",
       "  .table-result-container {\n",
       "    max-height: 300px;\n",
       "    overflow: auto;\n",
       "  }\n",
       "  table, th, td {\n",
       "    border: 1px solid black;\n",
       "    border-collapse: collapse;\n",
       "  }\n",
       "  th, td {\n",
       "    padding: 5px;\n",
       "  }\n",
       "  th {\n",
       "    text-align: left;\n",
       "  }\n",
       "</style><div class='table-result-container'><table class='table-result'><thead style='background-color: white'><tr><th>airline_icao</th><th>Name</th><th>number_of_flights</th></tr></thead><tbody><tr><td>UAL</td><td>United Airlines</td><td>49</td></tr></tbody></table></div>"
      ]
     },
     "metadata": {
      "application/vnd.databricks.v1+output": {
       "addedWidgets": {},
       "aggData": [],
       "aggError": "",
       "aggOverflow": false,
       "aggSchema": [],
       "aggSeriesLimitReached": false,
       "aggType": "",
       "arguments": {},
       "columnCustomDisplayInfos": {},
       "data": [
        [
         "UAL",
         "United Airlines",
         49
        ]
       ],
       "datasetInfos": [],
       "dbfsResultPath": null,
       "isJsonSchema": true,
       "metadata": {},
       "overflow": false,
       "plotOptions": {
        "customPlotOptions": {},
        "displayType": "table",
        "pivotAggregation": null,
        "pivotColumns": null,
        "xColumns": null,
        "yColumns": null
       },
       "removedWidgets": [],
       "schema": [
        {
         "metadata": "{}",
         "name": "airline_icao",
         "type": "\"string\""
        },
        {
         "metadata": "{}",
         "name": "Name",
         "type": "\"string\""
        },
        {
         "metadata": "{}",
         "name": "number_of_flights",
         "type": "\"long\""
        }
       ],
       "type": "table"
      }
     },
     "output_type": "display_data"
    }
   ],
   "source": [
    "#Question 1\n",
    "# Appeler la méthode airline_with_most_flights directement sur l'instance transformer\n",
    "result_df = transformer.airline_with_most_flights().display()"
   ]
  },
  {
   "cell_type": "code",
   "execution_count": 0,
   "metadata": {
    "application/vnd.databricks.v1+cell": {
     "cellMetadata": {
      "byteLimit": 2048000,
      "rowLimit": 10000
     },
     "inputWidgets": {},
     "nuid": "305ed434-6d86-40ef-a0d6-5441092bae5f",
     "showTitle": false,
     "title": ""
    }
   },
   "outputs": [
    {
     "output_type": "display_data",
     "data": {
      "text/html": [
       "<style scoped>\n",
       "  .table-result-container {\n",
       "    max-height: 300px;\n",
       "    overflow: auto;\n",
       "  }\n",
       "  table, th, td {\n",
       "    border: 1px solid black;\n",
       "    border-collapse: collapse;\n",
       "  }\n",
       "  th, td {\n",
       "    padding: 5px;\n",
       "  }\n",
       "  th {\n",
       "    text-align: left;\n",
       "  }\n",
       "</style><div class='table-result-container'><table class='table-result'><thead style='background-color: white'><tr><th>continent</th><th>airline_iata</th><th>airline_icao</th><th>airline_name</th><th>active_flights</th></tr></thead><tbody><tr><td>africa</td><td>BA</td><td>BAW</td><td>British Airways</td><td>39</td></tr><tr><td>asia</td><td>TK</td><td>THY</td><td>Turkish Airlines</td><td>29</td></tr><tr><td>europe</td><td>QR</td><td>QTR</td><td>Qatar Airways</td><td>11</td></tr><tr><td>atlantic</td><td>EK</td><td>UAE</td><td>Emirates</td><td>2</td></tr><tr><td>atlantic</td><td>TK</td><td>THY</td><td>Turkish Airlines</td><td>2</td></tr><tr><td>northatlantic</td><td>5W</td><td>WAZ</td><td>Wizz Air Abu Dhabi</td><td>1</td></tr><tr><td>northatlantic</td><td>EK</td><td>UAE</td><td>Emirates</td><td>1</td></tr><tr><td>northatlantic</td><td>MU</td><td>CES</td><td>China Eastern Airlines</td><td>1</td></tr></tbody></table></div>"
      ]
     },
     "metadata": {
      "application/vnd.databricks.v1+output": {
       "addedWidgets": {},
       "aggData": [],
       "aggError": "",
       "aggOverflow": false,
       "aggSchema": [],
       "aggSeriesLimitReached": false,
       "aggType": "",
       "arguments": {},
       "columnCustomDisplayInfos": {},
       "data": [
        [
         "africa",
         "BA",
         "BAW",
         "British Airways",
         39
        ],
        [
         "asia",
         "TK",
         "THY",
         "Turkish Airlines",
         29
        ],
        [
         "europe",
         "QR",
         "QTR",
         "Qatar Airways",
         11
        ],
        [
         "atlantic",
         "EK",
         "UAE",
         "Emirates",
         2
        ],
        [
         "atlantic",
         "TK",
         "THY",
         "Turkish Airlines",
         2
        ],
        [
         "northatlantic",
         "5W",
         "WAZ",
         "Wizz Air Abu Dhabi",
         1
        ],
        [
         "northatlantic",
         "EK",
         "UAE",
         "Emirates",
         1
        ],
        [
         "northatlantic",
         "MU",
         "CES",
         "China Eastern Airlines",
         1
        ]
       ],
       "datasetInfos": [],
       "dbfsResultPath": null,
       "isJsonSchema": true,
       "metadata": {},
       "overflow": false,
       "plotOptions": {
        "customPlotOptions": {},
        "displayType": "table",
        "pivotAggregation": null,
        "pivotColumns": null,
        "xColumns": null,
        "yColumns": null
       },
       "removedWidgets": [],
       "schema": [
        {
         "metadata": "{}",
         "name": "continent",
         "type": "\"string\""
        },
        {
         "metadata": "{}",
         "name": "airline_iata",
         "type": "\"string\""
        },
        {
         "metadata": "{}",
         "name": "airline_icao",
         "type": "\"string\""
        },
        {
         "metadata": "{}",
         "name": "airline_name",
         "type": "\"string\""
        },
        {
         "metadata": "{}",
         "name": "active_flights",
         "type": "\"long\""
        }
       ],
       "type": "table"
      }
     },
     "output_type": "display_data"
    }
   ],
   "source": [
    "#Question 2\n",
    "\n",
    "result_dff = transformer.most_regional_active_flights_companies_by_continent().display()"
   ]
  },
  {
   "cell_type": "code",
   "execution_count": 0,
   "metadata": {
    "application/vnd.databricks.v1+cell": {
     "cellMetadata": {
      "byteLimit": 2048000,
      "rowLimit": 10000
     },
     "inputWidgets": {},
     "nuid": "4af7a97c-0317-4ecb-8a5e-dc4fc332be4e",
     "showTitle": false,
     "title": ""
    }
   },
   "outputs": [
    {
     "output_type": "display_data",
     "data": {
      "text/html": [
       "<style scoped>\n",
       "  .table-result-container {\n",
       "    max-height: 300px;\n",
       "    overflow: auto;\n",
       "  }\n",
       "  table, th, td {\n",
       "    border: 1px solid black;\n",
       "    border-collapse: collapse;\n",
       "  }\n",
       "  th, td {\n",
       "    padding: 5px;\n",
       "  }\n",
       "  th {\n",
       "    text-align: left;\n",
       "  }\n",
       "</style><div class='table-result-container'><table class='table-result'><thead style='background-color: white'><tr><th>id</th><th>aircraft_code</th><th>airline_icao</th><th>callsign</th><th>route_length</th></tr></thead><tbody><tr><td>322bb4f0</td><td>A359</td><td>SIA</td><td>SIA24</td><td>15348.641</td></tr><tr><td>322b8985</td><td>A359</td><td>SIA</td><td>SIA23</td><td>15348.641</td></tr></tbody></table></div>"
      ]
     },
     "metadata": {
      "application/vnd.databricks.v1+output": {
       "addedWidgets": {},
       "aggData": [],
       "aggError": "",
       "aggOverflow": false,
       "aggSchema": [],
       "aggSeriesLimitReached": false,
       "aggType": "",
       "arguments": {},
       "columnCustomDisplayInfos": {},
       "data": [
        [
         "322bb4f0",
         "A359",
         "SIA",
         "SIA24",
         15348.641
        ],
        [
         "322b8985",
         "A359",
         "SIA",
         "SIA23",
         15348.641
        ]
       ],
       "datasetInfos": [],
       "dbfsResultPath": null,
       "isJsonSchema": true,
       "metadata": {},
       "overflow": false,
       "plotOptions": {
        "customPlotOptions": {},
        "displayType": "table",
        "pivotAggregation": null,
        "pivotColumns": null,
        "xColumns": null,
        "yColumns": null
       },
       "removedWidgets": [],
       "schema": [
        {
         "metadata": "{}",
         "name": "id",
         "type": "\"string\""
        },
        {
         "metadata": "{}",
         "name": "aircraft_code",
         "type": "\"string\""
        },
        {
         "metadata": "{}",
         "name": "airline_icao",
         "type": "\"string\""
        },
        {
         "metadata": "{}",
         "name": "callsign",
         "type": "\"string\""
        },
        {
         "metadata": "{}",
         "name": "route_length",
         "type": "\"float\""
        }
       ],
       "type": "table"
      }
     },
     "output_type": "display_data"
    }
   ],
   "source": [
    "#Question 3\n",
    "result_df_flight = transformer.active_flight_with_longest_route().display()"
   ]
  },
  {
   "cell_type": "code",
   "execution_count": 0,
   "metadata": {
    "application/vnd.databricks.v1+cell": {
     "cellMetadata": {
      "byteLimit": 2048000,
      "rowLimit": 10000
     },
     "inputWidgets": {},
     "nuid": "c32a9046-f8e1-4768-beae-5c196752f53e",
     "showTitle": false,
     "title": ""
    }
   },
   "outputs": [
    {
     "output_type": "display_data",
     "data": {
      "text/html": [
       "<style scoped>\n",
       "  .table-result-container {\n",
       "    max-height: 300px;\n",
       "    overflow: auto;\n",
       "  }\n",
       "  table, th, td {\n",
       "    border: 1px solid black;\n",
       "    border-collapse: collapse;\n",
       "  }\n",
       "  th, td {\n",
       "    padding: 5px;\n",
       "  }\n",
       "  th {\n",
       "    text-align: left;\n",
       "  }\n",
       "</style><div class='table-result-container'><table class='table-result'><thead style='background-color: white'><tr><th>origin_continent</th><th>average_route_distance</th></tr></thead><tbody><tr><td>africa</td><td>7518.855064336129</td></tr><tr><td>asia</td><td>6781.233681418679</td></tr><tr><td>atlantic</td><td>8848.507045200893</td></tr><tr><td>europe</td><td>6232.305320610434</td></tr><tr><td>northatlantic</td><td>3970.7388509114585</td></tr></tbody></table></div>"
      ]
     },
     "metadata": {
      "application/vnd.databricks.v1+output": {
       "addedWidgets": {},
       "aggData": [],
       "aggError": "",
       "aggOverflow": false,
       "aggSchema": [],
       "aggSeriesLimitReached": false,
       "aggType": "",
       "arguments": {},
       "columnCustomDisplayInfos": {},
       "data": [
        [
         "africa",
         7518.855064336129
        ],
        [
         "asia",
         6781.233681418679
        ],
        [
         "atlantic",
         8848.507045200893
        ],
        [
         "europe",
         6232.305320610434
        ],
        [
         "northatlantic",
         3970.7388509114585
        ]
       ],
       "datasetInfos": [],
       "dbfsResultPath": null,
       "isJsonSchema": true,
       "metadata": {},
       "overflow": false,
       "plotOptions": {
        "customPlotOptions": {},
        "displayType": "table",
        "pivotAggregation": null,
        "pivotColumns": null,
        "xColumns": null,
        "yColumns": null
       },
       "removedWidgets": [],
       "schema": [
        {
         "metadata": "{}",
         "name": "origin_continent",
         "type": "\"string\""
        },
        {
         "metadata": "{}",
         "name": "average_route_distance",
         "type": "\"double\""
        }
       ],
       "type": "table"
      }
     },
     "output_type": "display_data"
    }
   ],
   "source": [
    "#Question 4\n",
    "\n",
    "result_df_average = transformer.average_flight_distance_by_continent().display()"
   ]
  },
  {
   "cell_type": "code",
   "execution_count": 0,
   "metadata": {
    "application/vnd.databricks.v1+cell": {
     "cellMetadata": {
      "byteLimit": 2048000,
      "rowLimit": 10000
     },
     "inputWidgets": {},
     "nuid": "38c3e985-c826-46be-851b-28f6575f7700",
     "showTitle": false,
     "title": ""
    }
   },
   "outputs": [
    {
     "output_type": "display_data",
     "data": {
      "text/html": [
       "<style scoped>\n",
       "  .table-result-container {\n",
       "    max-height: 300px;\n",
       "    overflow: auto;\n",
       "  }\n",
       "  table, th, td {\n",
       "    border: 1px solid black;\n",
       "    border-collapse: collapse;\n",
       "  }\n",
       "  th, td {\n",
       "    padding: 5px;\n",
       "  }\n",
       "  th {\n",
       "    text-align: left;\n",
       "  }\n",
       "</style><div class='table-result-container'><table class='table-result'><thead style='background-color: white'><tr><th>country_origin</th><th>aircraft_code</th><th>count_model</th><th>rank</th></tr></thead><tbody><tr><td>Algeria</td><td>A333</td><td>2</td><td>1</td></tr><tr><td>Algeria</td><td>A332</td><td>1</td><td>2</td></tr><tr><td>Argentina</td><td>B789</td><td>3</td><td>1</td></tr><tr><td>Argentina</td><td>A359</td><td>2</td><td>2</td></tr><tr><td>Argentina</td><td>A332</td><td>1</td><td>3</td></tr><tr><td>Aruba</td><td>A21N</td><td>1</td><td>1</td></tr><tr><td>Aruba</td><td>B38M</td><td>1</td><td>2</td></tr><tr><td>Australia</td><td>A359</td><td>8</td><td>1</td></tr><tr><td>Australia</td><td>B77W</td><td>8</td><td>2</td></tr><tr><td>Australia</td><td>A388</td><td>6</td><td>3</td></tr><tr><td>Austria</td><td>A359</td><td>1</td><td>1</td></tr><tr><td>Austria</td><td>B763</td><td>1</td><td>2</td></tr><tr><td>Austria</td><td>B77W</td><td>1</td><td>3</td></tr><tr><td>Bahrain</td><td>A21N</td><td>1</td><td>1</td></tr><tr><td>Bahrain</td><td>MD11</td><td>1</td><td>2</td></tr><tr><td>Bangladesh</td><td>B738</td><td>4</td><td>1</td></tr><tr><td>Bangladesh</td><td>B77W</td><td>1</td><td>2</td></tr><tr><td>Belarus</td><td>A333</td><td>1</td><td>1</td></tr><tr><td>Belgium</td><td>B77L</td><td>3</td><td>1</td></tr><tr><td>Belgium</td><td>B744</td><td>2</td><td>2</td></tr><tr><td>Belgium</td><td>B748</td><td>1</td><td>3</td></tr><tr><td>Bolivia</td><td>B788</td><td>1</td><td>1</td></tr><tr><td>Bosnia And Herzegovina</td><td>A21N</td><td>1</td><td>1</td></tr><tr><td>Brazil</td><td>B39M</td><td>2</td><td>1</td></tr><tr><td>Brazil</td><td>B789</td><td>2</td><td>2</td></tr><tr><td>Brazil</td><td>A339</td><td>1</td><td>3</td></tr><tr><td>Brunei</td><td>A20N</td><td>1</td><td>1</td></tr><tr><td>Cambodia</td><td>A21N</td><td>1</td><td>1</td></tr><tr><td>Canada</td><td>B38M</td><td>3</td><td>1</td></tr><tr><td>Canada</td><td>B77W</td><td>3</td><td>2</td></tr><tr><td>Canada</td><td>A321</td><td>2</td><td>3</td></tr><tr><td>Cape Verde</td><td>B38M</td><td>1</td><td>1</td></tr><tr><td>Cape Verde</td><td>B763</td><td>1</td><td>2</td></tr><tr><td>Cape Verde</td><td>B772</td><td>1</td><td>3</td></tr><tr><td>Chile</td><td>A359</td><td>2</td><td>1</td></tr><tr><td>Chile</td><td>B763</td><td>2</td><td>2</td></tr><tr><td>Chile</td><td>B39M</td><td>1</td><td>3</td></tr><tr><td>China</td><td>B77W</td><td>13</td><td>1</td></tr><tr><td>China</td><td>A359</td><td>11</td><td>2</td></tr><tr><td>China</td><td>B789</td><td>11</td><td>3</td></tr><tr><td>Colombia</td><td>A359</td><td>1</td><td>1</td></tr><tr><td>Colombia</td><td>B190</td><td>1</td><td>2</td></tr><tr><td>Colombia</td><td>B788</td><td>1</td><td>3</td></tr><tr><td>Croatia</td><td>GLF5</td><td>1</td><td>1</td></tr><tr><td>Cyprus</td><td>B738</td><td>1</td><td>1</td></tr><tr><td>Czechia</td><td>B77W</td><td>1</td><td>1</td></tr><tr><td>Denmark</td><td>A333</td><td>2</td><td>1</td></tr><tr><td>Denmark</td><td>A21N</td><td>1</td><td>2</td></tr><tr><td>Denmark</td><td>B77W</td><td>1</td><td>3</td></tr><tr><td>Dominican Republic</td><td>A320</td><td>1</td><td>1</td></tr><tr><td>Dominican Republic</td><td>A332</td><td>1</td><td>2</td></tr><tr><td>Dominican Republic</td><td>B738</td><td>1</td><td>3</td></tr><tr><td>Ecuador</td><td>A21N</td><td>1</td><td>1</td></tr><tr><td>Ecuador</td><td>B788</td><td>1</td><td>2</td></tr><tr><td>Egypt</td><td>A332</td><td>1</td><td>1</td></tr><tr><td>Egypt</td><td>A333</td><td>1</td><td>2</td></tr><tr><td>Egypt</td><td>B752</td><td>1</td><td>3</td></tr><tr><td>Ethiopia</td><td>B77L</td><td>1</td><td>1</td></tr><tr><td>Fiji</td><td>A359</td><td>1</td><td>1</td></tr><tr><td>Finland</td><td>A359</td><td>5</td><td>1</td></tr><tr><td>Finland</td><td>A333</td><td>2</td><td>2</td></tr><tr><td>Finland</td><td>B789</td><td>2</td><td>3</td></tr><tr><td>France</td><td>B77W</td><td>15</td><td>1</td></tr><tr><td>France</td><td>B789</td><td>8</td><td>2</td></tr><tr><td>France</td><td>A359</td><td>7</td><td>3</td></tr><tr><td>Germany</td><td>A359</td><td>9</td><td>1</td></tr><tr><td>Germany</td><td>B789</td><td>8</td><td>2</td></tr><tr><td>Germany</td><td>B77W</td><td>7</td><td>3</td></tr><tr><td>Ghana</td><td>B744</td><td>1</td><td>1</td></tr><tr><td>Greece</td><td>A320</td><td>1</td><td>1</td></tr><tr><td>Greece</td><td>A359</td><td>1</td><td>2</td></tr><tr><td>Greece</td><td>B38M</td><td>1</td><td>3</td></tr><tr><td>Honduras</td><td>B789</td><td>1</td><td>1</td></tr><tr><td>Hong Kong</td><td>B77W</td><td>8</td><td>1</td></tr><tr><td>Hong Kong</td><td>A35K</td><td>6</td><td>2</td></tr><tr><td>Hong Kong</td><td>B77L</td><td>5</td><td>3</td></tr><tr><td>Hungary</td><td>B789</td><td>1</td><td>1</td></tr><tr><td>Iceland</td><td>A20N</td><td>2</td><td>1</td></tr><tr><td>Iceland</td><td>B38M</td><td>2</td><td>2</td></tr><tr><td>Iceland</td><td>B39M</td><td>2</td><td>3</td></tr><tr><td>India</td><td>A332</td><td>2</td><td>1</td></tr><tr><td>India</td><td>B744</td><td>2</td><td>2</td></tr><tr><td>India</td><td>B77L</td><td>2</td><td>3</td></tr><tr><td>Indonesia</td><td>B738</td><td>4</td><td>1</td></tr><tr><td>Indonesia</td><td>A333</td><td>3</td><td>2</td></tr><tr><td>Indonesia</td><td>A359</td><td>2</td><td>3</td></tr><tr><td>Iraq</td><td>B738</td><td>1</td><td>1</td></tr><tr><td>Ireland</td><td>A333</td><td>6</td><td>1</td></tr><tr><td>Ireland</td><td>A21N</td><td>2</td><td>2</td></tr><tr><td>Ireland</td><td>A332</td><td>2</td><td>3</td></tr><tr><td>Italy</td><td>A359</td><td>8</td><td>1</td></tr><tr><td>Italy</td><td>A332</td><td>3</td><td>2</td></tr><tr><td>Italy</td><td>B77W</td><td>3</td><td>3</td></tr><tr><td>Ivory Coast</td><td>B789</td><td>1</td><td>1</td></tr><tr><td>Japan</td><td>B77W</td><td>9</td><td>1</td></tr><tr><td>Japan</td><td>B789</td><td>9</td><td>2</td></tr><tr><td>Japan</td><td>B788</td><td>8</td><td>3</td></tr><tr><td>Jordan</td><td>B738</td><td>1</td><td>1</td></tr><tr><td>Kazakhstan</td><td>A333</td><td>1</td><td>1</td></tr><tr><td>Kuwait</td><td>A20N</td><td>2</td><td>1</td></tr><tr><td>Laos</td><td>B738</td><td>1</td><td>1</td></tr><tr><td>Luxembourg</td><td>B748</td><td>2</td><td>1</td></tr><tr><td>Luxembourg</td><td>B77L</td><td>2</td><td>2</td></tr><tr><td>Luxembourg</td><td>B744</td><td>1</td><td>3</td></tr><tr><td>Macao</td><td>A319</td><td>1</td><td>1</td></tr><tr><td>Malaysia</td><td>A333</td><td>7</td><td>1</td></tr><tr><td>Malaysia</td><td>A359</td><td>2</td><td>2</td></tr><tr><td>Malaysia</td><td>B738</td><td>2</td><td>3</td></tr><tr><td>Maldives</td><td>A21N</td><td>1</td><td>1</td></tr><tr><td>Maldives</td><td>A333</td><td>1</td><td>2</td></tr><tr><td>Maldives</td><td>B77W</td><td>1</td><td>3</td></tr><tr><td>Mauritius</td><td>A333</td><td>1</td><td>1</td></tr><tr><td>Mexico</td><td>B788</td><td>3</td><td>1</td></tr><tr><td>Mexico</td><td>B789</td><td>3</td><td>2</td></tr><tr><td>Mexico</td><td>A139</td><td>1</td><td>3</td></tr><tr><td>Morocco</td><td>B788</td><td>2</td><td>1</td></tr><tr><td>Morocco</td><td>B789</td><td>2</td><td>2</td></tr><tr><td>Morocco</td><td>A320</td><td>1</td><td>3</td></tr><tr><td>Nepal</td><td>A320</td><td>2</td><td>1</td></tr><tr><td>Netherlands</td><td>B77W</td><td>7</td><td>1</td></tr><tr><td>Netherlands</td><td>B789</td><td>5</td><td>2</td></tr><tr><td>Netherlands</td><td>A333</td><td>4</td><td>3</td></tr><tr><td>New Caledonia</td><td>A339</td><td>1</td><td>1</td></tr><tr><td>New Zealand</td><td>B789</td><td>4</td><td>1</td></tr><tr><td>New Zealand</td><td>A333</td><td>1</td><td>2</td></tr><tr><td>New Zealand</td><td>A388</td><td>1</td><td>3</td></tr><tr><td>Nigeria</td><td>FA50</td><td>1</td><td>1</td></tr><tr><td>Norway</td><td>B789</td><td>1</td><td>1</td></tr><tr><td>Pakistan</td><td>A321</td><td>1</td><td>1</td></tr><tr><td>Pakistan</td><td>B38M</td><td>1</td><td>2</td></tr><tr><td>Pakistan</td><td>B772</td><td>1</td><td>3</td></tr><tr><td>Panama</td><td>B39M</td><td>1</td><td>1</td></tr><tr><td>Panama</td><td>B77L</td><td>1</td><td>2</td></tr><tr><td>Peru</td><td>B763</td><td>2</td><td>1</td></tr><tr><td>Peru</td><td>A319</td><td>1</td><td>2</td></tr><tr><td>Peru</td><td>B77L</td><td>1</td><td>3</td></tr><tr><td>Philippines</td><td>B77W</td><td>7</td><td>1</td></tr><tr><td>Philippines</td><td>A333</td><td>2</td><td>2</td></tr><tr><td>Philippines</td><td>A21N</td><td>1</td><td>3</td></tr><tr><td>Poland</td><td>B788</td><td>4</td><td>1</td></tr><tr><td>Poland</td><td>B789</td><td>4</td><td>2</td></tr><tr><td>Poland</td><td>A333</td><td>1</td><td>3</td></tr><tr><td>Portugal</td><td>A339</td><td>8</td><td>1</td></tr><tr><td>Portugal</td><td>A332</td><td>3</td><td>2</td></tr><tr><td>Portugal</td><td>A21N</td><td>2</td><td>3</td></tr><tr><td>Puerto Rico</td><td>A20N</td><td>1</td><td>1</td></tr><tr><td>Puerto Rico</td><td>A321</td><td>1</td><td>2</td></tr><tr><td>Puerto Rico</td><td>LJ35</td><td>1</td><td>3</td></tr><tr><td>Qatar</td><td>A35K</td><td>4</td><td>1</td></tr><tr><td>Qatar</td><td>B77W</td><td>3</td><td>2</td></tr><tr><td>Qatar</td><td>B788</td><td>2</td><td>3</td></tr><tr><td>Russia</td><td>A20N</td><td>6</td><td>1</td></tr><tr><td>Russia</td><td>A333</td><td>4</td><td>2</td></tr><tr><td>Russia</td><td>A359</td><td>4</td><td>3</td></tr><tr><td>Saudi Arabia</td><td>B77W</td><td>5</td><td>1</td></tr><tr><td>Saudi Arabia</td><td>A333</td><td>2</td><td>2</td></tr><tr><td>Saudi Arabia</td><td>A332</td><td>1</td><td>3</td></tr><tr><td>Serbia</td><td>A332</td><td>1</td><td>1</td></tr><tr><td>Singapore</td><td>A359</td><td>16</td><td>1</td></tr><tr><td>Singapore</td><td>B77W</td><td>7</td><td>2</td></tr><tr><td>Singapore</td><td>A388</td><td>5</td><td>3</td></tr><tr><td>South Africa</td><td>B77W</td><td>4</td><td>1</td></tr><tr><td>South Africa</td><td>A333</td><td>2</td><td>2</td></tr><tr><td>South Africa</td><td>A359</td><td>2</td><td>3</td></tr><tr><td>South Korea</td><td>B748</td><td>6</td><td>1</td></tr><tr><td>South Korea</td><td>A359</td><td>5</td><td>2</td></tr><tr><td>South Korea</td><td>B789</td><td>5</td><td>3</td></tr><tr><td>Spain</td><td>B788</td><td>10</td><td>1</td></tr><tr><td>Spain</td><td>A359</td><td>8</td><td>2</td></tr><tr><td>Spain</td><td>A332</td><td>7</td><td>3</td></tr><tr><td>Sri Lanka</td><td>A332</td><td>2</td><td>1</td></tr><tr><td>Sri Lanka</td><td>B738</td><td>1</td><td>2</td></tr><tr><td>Sweden</td><td>A359</td><td>1</td><td>1</td></tr><tr><td>Sweden</td><td>B38M</td><td>1</td><td>2</td></tr><tr><td>Sweden</td><td>GLEX</td><td>1</td><td>3</td></tr><tr><td>Switzerland</td><td>B77W</td><td>7</td><td>1</td></tr><tr><td>Switzerland</td><td>A333</td><td>4</td><td>2</td></tr><tr><td>Switzerland</td><td>A343</td><td>2</td><td>3</td></tr><tr><td>Taiwan</td><td>B77W</td><td>14</td><td>1</td></tr><tr><td>Taiwan</td><td>A359</td><td>6</td><td>2</td></tr><tr><td>Taiwan</td><td>B789</td><td>3</td><td>3</td></tr><tr><td>Tanzania</td><td>B738</td><td>1</td><td>1</td></tr><tr><td>Thailand</td><td>A359</td><td>6</td><td>1</td></tr><tr><td>Thailand</td><td>B738</td><td>5</td><td>2</td></tr><tr><td>Thailand</td><td>B77W</td><td>3</td><td>3</td></tr><tr><td>Togo</td><td>B788</td><td>1</td><td>1</td></tr><tr><td>Turkey</td><td>B77W</td><td>10</td><td>1</td></tr><tr><td>Turkey</td><td>A333</td><td>7</td><td>2</td></tr><tr><td>Turkey</td><td>B789</td><td>5</td><td>3</td></tr><tr><td>Uganda</td><td>B38M</td><td>1</td><td>1</td></tr><tr><td>United Arab Emirates</td><td>A388</td><td>4</td><td>1</td></tr><tr><td>United Arab Emirates</td><td>A21N</td><td>3</td><td>2</td></tr><tr><td>United Arab Emirates</td><td>A320</td><td>3</td><td>3</td></tr><tr><td>United Kingdom</td><td>B789</td><td>23</td><td>1</td></tr><tr><td>United Kingdom</td><td>B772</td><td>16</td><td>2</td></tr><tr><td>United Kingdom</td><td>B77W</td><td>15</td><td>3</td></tr><tr><td>United States</td><td>A321</td><td>33</td><td>1</td></tr><tr><td>United States</td><td>B77L</td><td>22</td><td>2</td></tr><tr><td>United States</td><td>A21N</td><td>21</td><td>3</td></tr><tr><td>Uruguay</td><td>A332</td><td>1</td><td>1</td></tr><tr><td>Uruguay</td><td>B39M</td><td>1</td><td>2</td></tr><tr><td>Uruguay</td><td>B788</td><td>1</td><td>3</td></tr><tr><td>Uzbekistan</td><td>A333</td><td>2</td><td>1</td></tr><tr><td>Uzbekistan</td><td>B763</td><td>1</td><td>2</td></tr><tr><td>Vietnam</td><td>A359</td><td>3</td><td>1</td></tr><tr><td>Vietnam</td><td>B789</td><td>3</td><td>2</td></tr><tr><td>Vietnam</td><td>A21N</td><td>2</td><td>3</td></tr></tbody></table></div>"
      ]
     },
     "metadata": {
      "application/vnd.databricks.v1+output": {
       "addedWidgets": {},
       "aggData": [],
       "aggError": "",
       "aggOverflow": false,
       "aggSchema": [],
       "aggSeriesLimitReached": false,
       "aggType": "",
       "arguments": {},
       "columnCustomDisplayInfos": {},
       "data": [
        [
         "Algeria",
         "A333",
         2,
         1
        ],
        [
         "Algeria",
         "A332",
         1,
         2
        ],
        [
         "Argentina",
         "B789",
         3,
         1
        ],
        [
         "Argentina",
         "A359",
         2,
         2
        ],
        [
         "Argentina",
         "A332",
         1,
         3
        ],
        [
         "Aruba",
         "A21N",
         1,
         1
        ],
        [
         "Aruba",
         "B38M",
         1,
         2
        ],
        [
         "Australia",
         "A359",
         8,
         1
        ],
        [
         "Australia",
         "B77W",
         8,
         2
        ],
        [
         "Australia",
         "A388",
         6,
         3
        ],
        [
         "Austria",
         "A359",
         1,
         1
        ],
        [
         "Austria",
         "B763",
         1,
         2
        ],
        [
         "Austria",
         "B77W",
         1,
         3
        ],
        [
         "Bahrain",
         "A21N",
         1,
         1
        ],
        [
         "Bahrain",
         "MD11",
         1,
         2
        ],
        [
         "Bangladesh",
         "B738",
         4,
         1
        ],
        [
         "Bangladesh",
         "B77W",
         1,
         2
        ],
        [
         "Belarus",
         "A333",
         1,
         1
        ],
        [
         "Belgium",
         "B77L",
         3,
         1
        ],
        [
         "Belgium",
         "B744",
         2,
         2
        ],
        [
         "Belgium",
         "B748",
         1,
         3
        ],
        [
         "Bolivia",
         "B788",
         1,
         1
        ],
        [
         "Bosnia And Herzegovina",
         "A21N",
         1,
         1
        ],
        [
         "Brazil",
         "B39M",
         2,
         1
        ],
        [
         "Brazil",
         "B789",
         2,
         2
        ],
        [
         "Brazil",
         "A339",
         1,
         3
        ],
        [
         "Brunei",
         "A20N",
         1,
         1
        ],
        [
         "Cambodia",
         "A21N",
         1,
         1
        ],
        [
         "Canada",
         "B38M",
         3,
         1
        ],
        [
         "Canada",
         "B77W",
         3,
         2
        ],
        [
         "Canada",
         "A321",
         2,
         3
        ],
        [
         "Cape Verde",
         "B38M",
         1,
         1
        ],
        [
         "Cape Verde",
         "B763",
         1,
         2
        ],
        [
         "Cape Verde",
         "B772",
         1,
         3
        ],
        [
         "Chile",
         "A359",
         2,
         1
        ],
        [
         "Chile",
         "B763",
         2,
         2
        ],
        [
         "Chile",
         "B39M",
         1,
         3
        ],
        [
         "China",
         "B77W",
         13,
         1
        ],
        [
         "China",
         "A359",
         11,
         2
        ],
        [
         "China",
         "B789",
         11,
         3
        ],
        [
         "Colombia",
         "A359",
         1,
         1
        ],
        [
         "Colombia",
         "B190",
         1,
         2
        ],
        [
         "Colombia",
         "B788",
         1,
         3
        ],
        [
         "Croatia",
         "GLF5",
         1,
         1
        ],
        [
         "Cyprus",
         "B738",
         1,
         1
        ],
        [
         "Czechia",
         "B77W",
         1,
         1
        ],
        [
         "Denmark",
         "A333",
         2,
         1
        ],
        [
         "Denmark",
         "A21N",
         1,
         2
        ],
        [
         "Denmark",
         "B77W",
         1,
         3
        ],
        [
         "Dominican Republic",
         "A320",
         1,
         1
        ],
        [
         "Dominican Republic",
         "A332",
         1,
         2
        ],
        [
         "Dominican Republic",
         "B738",
         1,
         3
        ],
        [
         "Ecuador",
         "A21N",
         1,
         1
        ],
        [
         "Ecuador",
         "B788",
         1,
         2
        ],
        [
         "Egypt",
         "A332",
         1,
         1
        ],
        [
         "Egypt",
         "A333",
         1,
         2
        ],
        [
         "Egypt",
         "B752",
         1,
         3
        ],
        [
         "Ethiopia",
         "B77L",
         1,
         1
        ],
        [
         "Fiji",
         "A359",
         1,
         1
        ],
        [
         "Finland",
         "A359",
         5,
         1
        ],
        [
         "Finland",
         "A333",
         2,
         2
        ],
        [
         "Finland",
         "B789",
         2,
         3
        ],
        [
         "France",
         "B77W",
         15,
         1
        ],
        [
         "France",
         "B789",
         8,
         2
        ],
        [
         "France",
         "A359",
         7,
         3
        ],
        [
         "Germany",
         "A359",
         9,
         1
        ],
        [
         "Germany",
         "B789",
         8,
         2
        ],
        [
         "Germany",
         "B77W",
         7,
         3
        ],
        [
         "Ghana",
         "B744",
         1,
         1
        ],
        [
         "Greece",
         "A320",
         1,
         1
        ],
        [
         "Greece",
         "A359",
         1,
         2
        ],
        [
         "Greece",
         "B38M",
         1,
         3
        ],
        [
         "Honduras",
         "B789",
         1,
         1
        ],
        [
         "Hong Kong",
         "B77W",
         8,
         1
        ],
        [
         "Hong Kong",
         "A35K",
         6,
         2
        ],
        [
         "Hong Kong",
         "B77L",
         5,
         3
        ],
        [
         "Hungary",
         "B789",
         1,
         1
        ],
        [
         "Iceland",
         "A20N",
         2,
         1
        ],
        [
         "Iceland",
         "B38M",
         2,
         2
        ],
        [
         "Iceland",
         "B39M",
         2,
         3
        ],
        [
         "India",
         "A332",
         2,
         1
        ],
        [
         "India",
         "B744",
         2,
         2
        ],
        [
         "India",
         "B77L",
         2,
         3
        ],
        [
         "Indonesia",
         "B738",
         4,
         1
        ],
        [
         "Indonesia",
         "A333",
         3,
         2
        ],
        [
         "Indonesia",
         "A359",
         2,
         3
        ],
        [
         "Iraq",
         "B738",
         1,
         1
        ],
        [
         "Ireland",
         "A333",
         6,
         1
        ],
        [
         "Ireland",
         "A21N",
         2,
         2
        ],
        [
         "Ireland",
         "A332",
         2,
         3
        ],
        [
         "Italy",
         "A359",
         8,
         1
        ],
        [
         "Italy",
         "A332",
         3,
         2
        ],
        [
         "Italy",
         "B77W",
         3,
         3
        ],
        [
         "Ivory Coast",
         "B789",
         1,
         1
        ],
        [
         "Japan",
         "B77W",
         9,
         1
        ],
        [
         "Japan",
         "B789",
         9,
         2
        ],
        [
         "Japan",
         "B788",
         8,
         3
        ],
        [
         "Jordan",
         "B738",
         1,
         1
        ],
        [
         "Kazakhstan",
         "A333",
         1,
         1
        ],
        [
         "Kuwait",
         "A20N",
         2,
         1
        ],
        [
         "Laos",
         "B738",
         1,
         1
        ],
        [
         "Luxembourg",
         "B748",
         2,
         1
        ],
        [
         "Luxembourg",
         "B77L",
         2,
         2
        ],
        [
         "Luxembourg",
         "B744",
         1,
         3
        ],
        [
         "Macao",
         "A319",
         1,
         1
        ],
        [
         "Malaysia",
         "A333",
         7,
         1
        ],
        [
         "Malaysia",
         "A359",
         2,
         2
        ],
        [
         "Malaysia",
         "B738",
         2,
         3
        ],
        [
         "Maldives",
         "A21N",
         1,
         1
        ],
        [
         "Maldives",
         "A333",
         1,
         2
        ],
        [
         "Maldives",
         "B77W",
         1,
         3
        ],
        [
         "Mauritius",
         "A333",
         1,
         1
        ],
        [
         "Mexico",
         "B788",
         3,
         1
        ],
        [
         "Mexico",
         "B789",
         3,
         2
        ],
        [
         "Mexico",
         "A139",
         1,
         3
        ],
        [
         "Morocco",
         "B788",
         2,
         1
        ],
        [
         "Morocco",
         "B789",
         2,
         2
        ],
        [
         "Morocco",
         "A320",
         1,
         3
        ],
        [
         "Nepal",
         "A320",
         2,
         1
        ],
        [
         "Netherlands",
         "B77W",
         7,
         1
        ],
        [
         "Netherlands",
         "B789",
         5,
         2
        ],
        [
         "Netherlands",
         "A333",
         4,
         3
        ],
        [
         "New Caledonia",
         "A339",
         1,
         1
        ],
        [
         "New Zealand",
         "B789",
         4,
         1
        ],
        [
         "New Zealand",
         "A333",
         1,
         2
        ],
        [
         "New Zealand",
         "A388",
         1,
         3
        ],
        [
         "Nigeria",
         "FA50",
         1,
         1
        ],
        [
         "Norway",
         "B789",
         1,
         1
        ],
        [
         "Pakistan",
         "A321",
         1,
         1
        ],
        [
         "Pakistan",
         "B38M",
         1,
         2
        ],
        [
         "Pakistan",
         "B772",
         1,
         3
        ],
        [
         "Panama",
         "B39M",
         1,
         1
        ],
        [
         "Panama",
         "B77L",
         1,
         2
        ],
        [
         "Peru",
         "B763",
         2,
         1
        ],
        [
         "Peru",
         "A319",
         1,
         2
        ],
        [
         "Peru",
         "B77L",
         1,
         3
        ],
        [
         "Philippines",
         "B77W",
         7,
         1
        ],
        [
         "Philippines",
         "A333",
         2,
         2
        ],
        [
         "Philippines",
         "A21N",
         1,
         3
        ],
        [
         "Poland",
         "B788",
         4,
         1
        ],
        [
         "Poland",
         "B789",
         4,
         2
        ],
        [
         "Poland",
         "A333",
         1,
         3
        ],
        [
         "Portugal",
         "A339",
         8,
         1
        ],
        [
         "Portugal",
         "A332",
         3,
         2
        ],
        [
         "Portugal",
         "A21N",
         2,
         3
        ],
        [
         "Puerto Rico",
         "A20N",
         1,
         1
        ],
        [
         "Puerto Rico",
         "A321",
         1,
         2
        ],
        [
         "Puerto Rico",
         "LJ35",
         1,
         3
        ],
        [
         "Qatar",
         "A35K",
         4,
         1
        ],
        [
         "Qatar",
         "B77W",
         3,
         2
        ],
        [
         "Qatar",
         "B788",
         2,
         3
        ],
        [
         "Russia",
         "A20N",
         6,
         1
        ],
        [
         "Russia",
         "A333",
         4,
         2
        ],
        [
         "Russia",
         "A359",
         4,
         3
        ],
        [
         "Saudi Arabia",
         "B77W",
         5,
         1
        ],
        [
         "Saudi Arabia",
         "A333",
         2,
         2
        ],
        [
         "Saudi Arabia",
         "A332",
         1,
         3
        ],
        [
         "Serbia",
         "A332",
         1,
         1
        ],
        [
         "Singapore",
         "A359",
         16,
         1
        ],
        [
         "Singapore",
         "B77W",
         7,
         2
        ],
        [
         "Singapore",
         "A388",
         5,
         3
        ],
        [
         "South Africa",
         "B77W",
         4,
         1
        ],
        [
         "South Africa",
         "A333",
         2,
         2
        ],
        [
         "South Africa",
         "A359",
         2,
         3
        ],
        [
         "South Korea",
         "B748",
         6,
         1
        ],
        [
         "South Korea",
         "A359",
         5,
         2
        ],
        [
         "South Korea",
         "B789",
         5,
         3
        ],
        [
         "Spain",
         "B788",
         10,
         1
        ],
        [
         "Spain",
         "A359",
         8,
         2
        ],
        [
         "Spain",
         "A332",
         7,
         3
        ],
        [
         "Sri Lanka",
         "A332",
         2,
         1
        ],
        [
         "Sri Lanka",
         "B738",
         1,
         2
        ],
        [
         "Sweden",
         "A359",
         1,
         1
        ],
        [
         "Sweden",
         "B38M",
         1,
         2
        ],
        [
         "Sweden",
         "GLEX",
         1,
         3
        ],
        [
         "Switzerland",
         "B77W",
         7,
         1
        ],
        [
         "Switzerland",
         "A333",
         4,
         2
        ],
        [
         "Switzerland",
         "A343",
         2,
         3
        ],
        [
         "Taiwan",
         "B77W",
         14,
         1
        ],
        [
         "Taiwan",
         "A359",
         6,
         2
        ],
        [
         "Taiwan",
         "B789",
         3,
         3
        ],
        [
         "Tanzania",
         "B738",
         1,
         1
        ],
        [
         "Thailand",
         "A359",
         6,
         1
        ],
        [
         "Thailand",
         "B738",
         5,
         2
        ],
        [
         "Thailand",
         "B77W",
         3,
         3
        ],
        [
         "Togo",
         "B788",
         1,
         1
        ],
        [
         "Turkey",
         "B77W",
         10,
         1
        ],
        [
         "Turkey",
         "A333",
         7,
         2
        ],
        [
         "Turkey",
         "B789",
         5,
         3
        ],
        [
         "Uganda",
         "B38M",
         1,
         1
        ],
        [
         "United Arab Emirates",
         "A388",
         4,
         1
        ],
        [
         "United Arab Emirates",
         "A21N",
         3,
         2
        ],
        [
         "United Arab Emirates",
         "A320",
         3,
         3
        ],
        [
         "United Kingdom",
         "B789",
         23,
         1
        ],
        [
         "United Kingdom",
         "B772",
         16,
         2
        ],
        [
         "United Kingdom",
         "B77W",
         15,
         3
        ],
        [
         "United States",
         "A321",
         33,
         1
        ],
        [
         "United States",
         "B77L",
         22,
         2
        ],
        [
         "United States",
         "A21N",
         21,
         3
        ],
        [
         "Uruguay",
         "A332",
         1,
         1
        ],
        [
         "Uruguay",
         "B39M",
         1,
         2
        ],
        [
         "Uruguay",
         "B788",
         1,
         3
        ],
        [
         "Uzbekistan",
         "A333",
         2,
         1
        ],
        [
         "Uzbekistan",
         "B763",
         1,
         2
        ],
        [
         "Vietnam",
         "A359",
         3,
         1
        ],
        [
         "Vietnam",
         "B789",
         3,
         2
        ],
        [
         "Vietnam",
         "A21N",
         2,
         3
        ]
       ],
       "datasetInfos": [],
       "dbfsResultPath": null,
       "isJsonSchema": true,
       "metadata": {},
       "overflow": false,
       "plotOptions": {
        "customPlotOptions": {},
        "displayType": "table",
        "pivotAggregation": null,
        "pivotColumns": null,
        "xColumns": null,
        "yColumns": null
       },
       "removedWidgets": [],
       "schema": [
        {
         "metadata": "{}",
         "name": "country_origin",
         "type": "\"string\""
        },
        {
         "metadata": "{}",
         "name": "aircraft_code",
         "type": "\"string\""
        },
        {
         "metadata": "{}",
         "name": "count_model",
         "type": "\"long\""
        },
        {
         "metadata": "{}",
         "name": "rank",
         "type": "\"integer\""
        }
       ],
       "type": "table"
      }
     },
     "output_type": "display_data"
    }
   ],
   "source": [
    "#Question 6\n",
    "result_df_country = transformer.get_country_aircraft_model().display()"
   ]
  },
  {
   "cell_type": "code",
   "execution_count": 0,
   "metadata": {
    "application/vnd.databricks.v1+cell": {
     "cellMetadata": {
      "byteLimit": 2048000,
      "rowLimit": 10000
     },
     "inputWidgets": {},
     "nuid": "b9872021-1d43-49a0-99f6-f2dd7a8a7239",
     "showTitle": false,
     "title": ""
    }
   },
   "outputs": [
    {
     "output_type": "display_data",
     "data": {
      "text/html": [
       "<style scoped>\n",
       "  .table-result-container {\n",
       "    max-height: 300px;\n",
       "    overflow: auto;\n",
       "  }\n",
       "  table, th, td {\n",
       "    border: 1px solid black;\n",
       "    border-collapse: collapse;\n",
       "  }\n",
       "  th, td {\n",
       "    padding: 5px;\n",
       "  }\n",
       "  th {\n",
       "    text-align: left;\n",
       "  }\n",
       "</style><div class='table-result-container'><table class='table-result'><thead style='background-color: white'><tr><th>IATA Code</th><th>airport_name</th><th>active_flights_in</th><th>active_flights_out</th><th>active_flights</th></tr></thead><tbody><tr><td>LHR</td><td>London Heathrow Airport</td><td>91</td><td>14</td><td>77</td></tr></tbody></table></div>"
      ]
     },
     "metadata": {
      "application/vnd.databricks.v1+output": {
       "addedWidgets": {},
       "aggData": [],
       "aggError": "",
       "aggOverflow": false,
       "aggSchema": [],
       "aggSeriesLimitReached": false,
       "aggType": "",
       "arguments": {},
       "columnCustomDisplayInfos": {},
       "data": [
        [
         "LHR",
         "London Heathrow Airport",
         91,
         14,
         77
        ]
       ],
       "datasetInfos": [],
       "dbfsResultPath": null,
       "isJsonSchema": true,
       "metadata": {},
       "overflow": false,
       "plotOptions": {
        "customPlotOptions": {},
        "displayType": "table",
        "pivotAggregation": null,
        "pivotColumns": null,
        "xColumns": null,
        "yColumns": null
       },
       "removedWidgets": [],
       "schema": [
        {
         "metadata": "{}",
         "name": "IATA Code",
         "type": "\"string\""
        },
        {
         "metadata": "{}",
         "name": "airport_name",
         "type": "\"string\""
        },
        {
         "metadata": "{}",
         "name": "active_flights_in",
         "type": "\"long\""
        },
        {
         "metadata": "{}",
         "name": "active_flights_out",
         "type": "\"long\""
        },
        {
         "metadata": "{}",
         "name": "active_flights",
         "type": "\"long\""
        }
       ],
       "type": "table"
      }
     },
     "output_type": "display_data"
    }
   ],
   "source": [
    "#Question Bonus\n",
    "result_df = transformer.airport_with_greatest_flights_difference().display()"
   ]
  },
  {
   "cell_type": "code",
   "execution_count": 0,
   "metadata": {
    "application/vnd.databricks.v1+cell": {
     "cellMetadata": {
      "byteLimit": 2048000,
      "rowLimit": 10000
     },
     "inputWidgets": {},
     "nuid": "bb6ac5f0-2956-47dd-aed6-013bbc0ccc83",
     "showTitle": false,
     "title": ""
    }
   },
   "outputs": [],
   "source": [
    "\n",
    "logging.info(\"Preparing DataFrames...\")\n",
    "# Question 1\n",
    "airline_df = transformer.airline_with_most_flights()\n",
    "# Question 2\n",
    "top_regional_df = transformer.most_regional_active_flights_companies_by_continent()\n",
    "# Question 3\n",
    "find_longest_flight_df = transformer.active_flight_with_longest_route()\n",
    "# Question 4\n",
    "average_flight_distance_by_continent_df = transformer.average_flight_distance_by_continent()\n",
    "# Question 6\n",
    "get_country_aircraft_model_df = transformer.get_country_aircraft_model()\n",
    "# Question Bonus\n",
    "airport_with_greatest_flights_difference_df = transformer.airport_with_greatest_flights_difference()\n",
    "logging.info(\"All tasks completed successfully.\")\n"
   ]
  },
  {
   "cell_type": "code",
   "execution_count": 0,
   "metadata": {
    "application/vnd.databricks.v1+cell": {
     "cellMetadata": {
      "byteLimit": 2048000,
      "rowLimit": 10000
     },
     "inputWidgets": {},
     "nuid": "85bf6702-203a-4a55-858e-e9986e26a834",
     "showTitle": false,
     "title": ""
    }
   },
   "outputs": [],
   "source": [
    "logging.info(\"Writing DataFrames to parquet...\")\n",
    "def write_df_as_parquet(df, output_path):\n",
    "    df.write.mode(\"overwrite\").parquet(output_path)\n",
    " \n",
    "output_directory = \"/FileStore/Silver/FlightsRadar_API\"  \n",
    "write_df_as_parquet(airline_df, output_directory  + '/most_airlines')\n",
    "write_df_as_parquet(top_regional_df, output_directory + '/top_regional')\n",
    "write_df_as_parquet(find_longest_flight_df, output_directory + '/find_longest_flight')\n",
    "write_df_as_parquet(average_flight_distance_by_continent_df, output_directory +'/average_flight_distance_by_continent')\n",
    "write_df_as_parquet(get_country_aircraft_model_df, output_directory +'/country_aircraft_model')\n",
    "write_df_as_parquet(airport_with_greatest_flights_difference_df, output_directory +'/greatest_flights_difference')\n",
    " \n",
    "logging.info(\"All tasks completed successfully.\")"
   ]
  }
 ],
 "metadata": {
  "application/vnd.databricks.v1+notebook": {
   "dashboards": [],
   "language": "python",
   "notebookMetadata": {
    "pythonIndentUnit": 4
   },
   "notebookName": "Transformation_Process_FlightRadar24_API",
   "widgets": {}
  }
 },
 "nbformat": 4,
 "nbformat_minor": 0
}
