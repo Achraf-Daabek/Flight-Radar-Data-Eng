{
 "cells": [
  {
   "cell_type": "code",
   "execution_count": 0,
   "metadata": {
    "application/vnd.databricks.v1+cell": {
     "cellMetadata": {
      "byteLimit": 2048000,
      "rowLimit": 10000
     },
     "inputWidgets": {},
     "nuid": "0990e33e-d5ed-49cc-a5ec-83c39aa558ad",
     "showTitle": false,
     "title": ""
    }
   },
   "outputs": [],
   "source": [
    "from datetime import datetime\n",
    "import logging"
   ]
  },
  {
   "cell_type": "code",
   "execution_count": 0,
   "metadata": {
    "application/vnd.databricks.v1+cell": {
     "cellMetadata": {
      "byteLimit": 2048000,
      "rowLimit": 10000
     },
     "inputWidgets": {},
     "nuid": "4195907c-13b5-4254-b1fc-282f9dbb7931",
     "showTitle": false,
     "title": ""
    }
   },
   "outputs": [],
   "source": [
    "# Configuration de base pour le logging\n",
    "logging.basicConfig(level=logging.INFO, format='%(asctime)s - %(levelname)s - %(message)s')"
   ]
  },
  {
   "cell_type": "code",
   "execution_count": 0,
   "metadata": {
    "application/vnd.databricks.v1+cell": {
     "cellMetadata": {
      "byteLimit": 2048000,
      "rowLimit": 10000
     },
     "inputWidgets": {},
     "nuid": "88063fa8-a77d-47ed-abc2-68bbc5b702bd",
     "showTitle": false,
     "title": ""
    }
   },
   "outputs": [],
   "source": [
    "class Load:\n",
    "    def __init__(self, path_silver: str):\n",
    "        self.path_silver = path_silver\n",
    "        self.airline_df = spark.read.parquet(f\"{self.path_silver}/most_airlines\")\n",
    "        self.top_regional_df = spark.read.parquet(f\"{self.path_silver}/top_regional\")\n",
    "        self.find_longest_flight_df = spark.read.parquet(f\"{self.path_silver}/find_longest_flight\")\n",
    "        self.average_flight_distance_by_continent_df = spark.read.parquet(f\"{self.path_silver}/average_flight_distance_by_continent\")\n",
    "        self.get_country_aircraft_model_df = spark.read.parquet(f\"{self.path_silver}/country_aircraft_model\")\n",
    "        self.airport_with_greatest_flights_difference_df = spark.read.parquet(f\"{self.path_silver}/greatest_flights_difference\")\n",
    "\n",
    "    @classmethod\n",
    "    def create_gold_folder(cls, base_path):\n",
    "        # Obtenir la date et l'heure actuelles\n",
    "        current_datetime = datetime.now()\n",
    "\n",
    "        # Créer le chemin du dossier Gold avec nomenclature horodatée\n",
    "        gold_folder_path = f\"{base_path}/tech_year={current_datetime.year}/tech_month={current_datetime.strftime('%Y-%m')}/tech_day={current_datetime.strftime('%Y-%m-%d')}\"\n",
    "\n",
    "        # Créer le dossier Gold s'il n'existe pas déjà\n",
    "        dbutils.fs.mkdirs(gold_folder_path)\n",
    "\n",
    "        return gold_folder_path\n",
    "\n",
    "    @classmethod\n",
    "    def save_data_to_gold(cls, base_path, airline_df, top_regional_df, find_longest_flight_df, average_flight_distance_by_continent_df, get_country_aircraft_model_df,airport_with_greatest_flights_difference_df):\n",
    "        # Créer le dossier Gold\n",
    "        gold_folder_path = cls.create_gold_folder(base_path)\n",
    "\n",
    "        # Enregistrer les DataFrames de la couche Gold au format CSV\n",
    "        airline_df.write.mode(\"overwrite\").csv(f\"{gold_folder_path}/most_airlines.csv\", header=True)\n",
    "        top_regional_df.write.mode(\"overwrite\").csv(f\"{gold_folder_path}/top_regional.csv\", header=True)\n",
    "        find_longest_flight_df.write.mode(\"overwrite\").csv(f\"{gold_folder_path}/find_longest_flight.csv\", header=True)\n",
    "        average_flight_distance_by_continent_df.write.mode(\"overwrite\").csv(f\"{gold_folder_path}/average_flight_distance_by_continent.csv\", header=True)\n",
    "        get_country_aircraft_model_df.write.mode(\"overwrite\").csv(f\"{gold_folder_path}/country_aircraft_model.csv\", header=True)\n",
    "        airport_with_greatest_flights_difference_df.write.mode(\"overwrite\").csv(f\"{gold_folder_path}/greatest_flights_difference\", header=True)"
   ]
  },
  {
   "cell_type": "code",
   "execution_count": 0,
   "metadata": {
    "application/vnd.databricks.v1+cell": {
     "cellMetadata": {
      "byteLimit": 2048000,
      "rowLimit": 10000
     },
     "inputWidgets": {},
     "nuid": "10c20b7e-cc61-4d65-937e-5298955a951a",
     "showTitle": false,
     "title": ""
    }
   },
   "outputs": [],
   "source": [
    "# Chemin vers le répertoire où les Parquets ont été enregistrés\n",
    "parquet_directory = \"/FileStore/Silver/FlightsRadar_API\"\n",
    "\n",
    "# Créer une instance de Transformation en passant le chemin du répertoire\n",
    "Loader = Load(parquet_directory)"
   ]
  },
  {
   "cell_type": "code",
   "execution_count": 0,
   "metadata": {
    "application/vnd.databricks.v1+cell": {
     "cellMetadata": {
      "byteLimit": 2048000,
      "rowLimit": 10000
     },
     "inputWidgets": {},
     "nuid": "0ea421e7-fe4b-4a02-b55f-70ff80331ff0",
     "showTitle": false,
     "title": ""
    }
   },
   "outputs": [],
   "source": [
    "# Spécifieer le chemin de base pour la couche Gold\n",
    "gold_base_path = \"/FileStore/Gold/FlightsRadar_API\"\n",
    "# Appeler la fonction pour créer le dossier Gold avec une nomenclature horodatée\n",
    "gold_folder_path = Load.create_gold_folder(gold_base_path)"
   ]
  },
  {
   "cell_type": "code",
   "execution_count": 0,
   "metadata": {
    "application/vnd.databricks.v1+cell": {
     "cellMetadata": {
      "byteLimit": 2048000,
      "rowLimit": 10000
     },
     "inputWidgets": {},
     "nuid": "165ed3b8-0944-452f-ad60-f423b9f4577d",
     "showTitle": false,
     "title": ""
    }
   },
   "outputs": [],
   "source": [
    "\n",
    "# Enregistrer les fichiers CSV dans le dossier Gold en passant les DataFrames comme arguments\n",
    "Loader.save_data_to_gold(\n",
    "    gold_base_path,\n",
    "    Loader.airline_df,\n",
    "    Loader.top_regional_df,\n",
    "    Loader.find_longest_flight_df,\n",
    "    Loader.average_flight_distance_by_continent_df,\n",
    "    Loader.get_country_aircraft_model_df,\n",
    "    Loader.airport_with_greatest_flights_difference_df\n",
    ")\n",
    "\n",
    "\n",
    "\n",
    "\n",
    "\n",
    "\n"
   ]
  }
 ],
 "metadata": {
  "application/vnd.databricks.v1+notebook": {
   "dashboards": [],
   "language": "python",
   "notebookMetadata": {
    "pythonIndentUnit": 4
   },
   "notebookName": "Load_Process_FlightRadar24_API",
   "widgets": {}
  }
 },
 "nbformat": 4,
 "nbformat_minor": 0
}
